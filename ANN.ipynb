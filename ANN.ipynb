{
  "nbformat": 4,
  "nbformat_minor": 0,
  "metadata": {
    "colab": {
      "provenance": [],
      "gpuType": "T4",
      "authorship_tag": "ABX9TyNwDKlVzhkABqKU3vzg3pPJ",
      "include_colab_link": true
    },
    "kernelspec": {
      "name": "ir",
      "display_name": "R"
    },
    "language_info": {
      "name": "R"
    },
    "accelerator": "GPU"
  },
  "cells": [
    {
      "cell_type": "markdown",
      "metadata": {
        "id": "view-in-github",
        "colab_type": "text"
      },
      "source": [
        "<a href=\"https://colab.research.google.com/github/zainabbio/Data_Science/blob/main/ANN.ipynb\" target=\"_parent\"><img src=\"https://colab.research.google.com/assets/colab-badge.svg\" alt=\"Open In Colab\"/></a>"
      ]
    },
    {
      "cell_type": "code",
      "execution_count": null,
      "metadata": {
        "id": "cqBftwzKFQbn"
      },
      "outputs": [],
      "source": []
    },
    {
      "cell_type": "code",
      "source": [],
      "metadata": {
        "id": "hW8GwHrxGRJn"
      },
      "execution_count": null,
      "outputs": []
    },
    {
      "cell_type": "markdown",
      "source": [
        "**Artifical Neural Network for Ligand Screening Using R**\n"
      ],
      "metadata": {
        "id": "G8EF6bc3FZHf"
      }
    },
    {
      "cell_type": "code",
      "source": [
        "# Install reticulate package if you haven't already\n",
        "install.packages(\"reticulate\")\n",
        "\n",
        "# Load the reticulate library\n",
        "library(reticulate)\n",
        "\n",
        "# Install Conda (this may require administrator privileges)\n",
        "conda_install(\"r-reticulate\", \"conda\", pip = TRUE)\n",
        "\n",
        "# Optionally, you can restart the R session to apply changes\n",
        ".rs.restartR()"
      ],
      "metadata": {
        "colab": {
          "base_uri": "https://localhost:8080/",
          "height": 384
        },
        "id": "62yP7Wd6FhtK",
        "outputId": "c0e93488-838b-40d7-f7ab-3a11fc21cf3f"
      },
      "execution_count": 1,
      "outputs": [
        {
          "output_type": "stream",
          "name": "stderr",
          "text": [
            "Installing package into ‘/usr/local/lib/R/site-library’\n",
            "(as ‘lib’ is unspecified)\n",
            "\n",
            "also installing the dependencies ‘RcppTOML’, ‘here’, ‘png’\n",
            "\n",
            "\n"
          ]
        },
        {
          "output_type": "error",
          "ename": "ERROR",
          "evalue": "Error: Unable to find conda binary. Is Anaconda installed?\n",
          "traceback": [
            "Error: Unable to find conda binary. Is Anaconda installed?\nTraceback:\n",
            "1. conda_binary(conda)",
            "2. stop(\"Unable to find conda binary. Is Anaconda installed?\", call. = FALSE)",
            "3. .handleSimpleError(function (cnd) \n . {\n .     watcher$capture_plot_and_output()\n .     cnd <- sanitize_call(cnd)\n .     watcher$push(cnd)\n .     switch(on_error, continue = invokeRestart(\"eval_continue\"), \n .         stop = invokeRestart(\"eval_stop\"), error = invokeRestart(\"eval_error\", \n .             cnd))\n . }, \"Unable to find conda binary. Is Anaconda installed?\", base::quote(NULL))"
          ]
        }
      ]
    },
    {
      "cell_type": "code",
      "source": [
        "# Load the reticulate package\n",
        "library(reticulate)\n",
        "\n",
        "# Install mamba using conda\n",
        "conda_install(\"r-reticulate\", \"mamba\", channel = \"conda-forge\")\n",
        "\n",
        "# Install additional packages using mamba\n",
        "mamba <- import(\"mamba\")\n",
        "mamba$install(c(\"pandas\", \"matplotlib\", \"seaborn\", \"rdkit\"), channel = \"conda-forge\")\n"
      ],
      "metadata": {
        "id": "DDNM0dhwGehX"
      },
      "execution_count": null,
      "outputs": []
    }
  ]
}